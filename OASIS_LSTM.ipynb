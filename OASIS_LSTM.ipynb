{
  "nbformat": 4,
  "nbformat_minor": 0,
  "metadata": {
    "kernelspec": {
      "display_name": "Python 3",
      "language": "python",
      "name": "python3"
    },
    "language_info": {
      "codemirror_mode": {
        "name": "ipython",
        "version": 3
      },
      "file_extension": ".py",
      "mimetype": "text/x-python",
      "name": "python",
      "nbconvert_exporter": "python",
      "pygments_lexer": "ipython3",
      "version": "3.8.3"
    },
    "colab": {
      "name": "OASIS_LSTM.ipynb",
      "provenance": [],
      "include_colab_link": true
    },
    "accelerator": "GPU",
    "widgets": {
      "application/vnd.jupyter.widget-state+json": {
        "f98d26c296c8429281897150cf7c1b67": {
          "model_module": "@jupyter-widgets/controls",
          "model_name": "HBoxModel",
          "state": {
            "_view_name": "HBoxView",
            "_dom_classes": [],
            "_model_name": "HBoxModel",
            "_view_module": "@jupyter-widgets/controls",
            "_model_module_version": "1.5.0",
            "_view_count": null,
            "_view_module_version": "1.5.0",
            "box_style": "",
            "layout": "IPY_MODEL_4926dd7cd4b745bc870ce418a686f3ba",
            "_model_module": "@jupyter-widgets/controls",
            "children": [
              "IPY_MODEL_b247e934827d4d1589cf501064e14ff4",
              "IPY_MODEL_c794018b50cf49a0b1d6caadc7516d9b"
            ]
          }
        },
        "4926dd7cd4b745bc870ce418a686f3ba": {
          "model_module": "@jupyter-widgets/base",
          "model_name": "LayoutModel",
          "state": {
            "_view_name": "LayoutView",
            "grid_template_rows": null,
            "right": null,
            "justify_content": null,
            "_view_module": "@jupyter-widgets/base",
            "overflow": null,
            "_model_module_version": "1.2.0",
            "_view_count": null,
            "flex_flow": null,
            "width": null,
            "min_width": null,
            "border": null,
            "align_items": null,
            "bottom": null,
            "_model_module": "@jupyter-widgets/base",
            "top": null,
            "grid_column": null,
            "overflow_y": null,
            "overflow_x": null,
            "grid_auto_flow": null,
            "grid_area": null,
            "grid_template_columns": null,
            "flex": null,
            "_model_name": "LayoutModel",
            "justify_items": null,
            "grid_row": null,
            "max_height": null,
            "align_content": null,
            "visibility": null,
            "align_self": null,
            "height": null,
            "min_height": null,
            "padding": null,
            "grid_auto_rows": null,
            "grid_gap": null,
            "max_width": null,
            "order": null,
            "_view_module_version": "1.2.0",
            "grid_template_areas": null,
            "object_position": null,
            "object_fit": null,
            "grid_auto_columns": null,
            "margin": null,
            "display": null,
            "left": null
          }
        },
        "b247e934827d4d1589cf501064e14ff4": {
          "model_module": "@jupyter-widgets/controls",
          "model_name": "FloatProgressModel",
          "state": {
            "_view_name": "ProgressView",
            "style": "IPY_MODEL_6e525c0d70704e89b3814b3bdba4816a",
            "_dom_classes": [],
            "description": "OASIS LSTM is Learning: 100%",
            "_model_name": "FloatProgressModel",
            "bar_style": "success",
            "max": 1000,
            "_view_module": "@jupyter-widgets/controls",
            "_model_module_version": "1.5.0",
            "value": 1000,
            "_view_count": null,
            "_view_module_version": "1.5.0",
            "orientation": "horizontal",
            "min": 0,
            "description_tooltip": null,
            "_model_module": "@jupyter-widgets/controls",
            "layout": "IPY_MODEL_c5a4de9d0530432aacaf19704c58f1a3"
          }
        },
        "c794018b50cf49a0b1d6caadc7516d9b": {
          "model_module": "@jupyter-widgets/controls",
          "model_name": "HTMLModel",
          "state": {
            "_view_name": "HTMLView",
            "style": "IPY_MODEL_30765fa396a641ab80ab7594f0c6d8ce",
            "_dom_classes": [],
            "description": "",
            "_model_name": "HTMLModel",
            "placeholder": "​",
            "_view_module": "@jupyter-widgets/controls",
            "_model_module_version": "1.5.0",
            "value": " 1000/1000 [58:38&lt;00:00,  3.52s/it]",
            "_view_count": null,
            "_view_module_version": "1.5.0",
            "description_tooltip": null,
            "_model_module": "@jupyter-widgets/controls",
            "layout": "IPY_MODEL_87f4900f2a904bb2b93f4ead4c98af3c"
          }
        },
        "6e525c0d70704e89b3814b3bdba4816a": {
          "model_module": "@jupyter-widgets/controls",
          "model_name": "ProgressStyleModel",
          "state": {
            "_view_name": "StyleView",
            "_model_name": "ProgressStyleModel",
            "description_width": "initial",
            "_view_module": "@jupyter-widgets/base",
            "_model_module_version": "1.5.0",
            "_view_count": null,
            "_view_module_version": "1.2.0",
            "bar_color": null,
            "_model_module": "@jupyter-widgets/controls"
          }
        },
        "c5a4de9d0530432aacaf19704c58f1a3": {
          "model_module": "@jupyter-widgets/base",
          "model_name": "LayoutModel",
          "state": {
            "_view_name": "LayoutView",
            "grid_template_rows": null,
            "right": null,
            "justify_content": null,
            "_view_module": "@jupyter-widgets/base",
            "overflow": null,
            "_model_module_version": "1.2.0",
            "_view_count": null,
            "flex_flow": null,
            "width": null,
            "min_width": null,
            "border": null,
            "align_items": null,
            "bottom": null,
            "_model_module": "@jupyter-widgets/base",
            "top": null,
            "grid_column": null,
            "overflow_y": null,
            "overflow_x": null,
            "grid_auto_flow": null,
            "grid_area": null,
            "grid_template_columns": null,
            "flex": null,
            "_model_name": "LayoutModel",
            "justify_items": null,
            "grid_row": null,
            "max_height": null,
            "align_content": null,
            "visibility": null,
            "align_self": null,
            "height": null,
            "min_height": null,
            "padding": null,
            "grid_auto_rows": null,
            "grid_gap": null,
            "max_width": null,
            "order": null,
            "_view_module_version": "1.2.0",
            "grid_template_areas": null,
            "object_position": null,
            "object_fit": null,
            "grid_auto_columns": null,
            "margin": null,
            "display": null,
            "left": null
          }
        },
        "30765fa396a641ab80ab7594f0c6d8ce": {
          "model_module": "@jupyter-widgets/controls",
          "model_name": "DescriptionStyleModel",
          "state": {
            "_view_name": "StyleView",
            "_model_name": "DescriptionStyleModel",
            "description_width": "",
            "_view_module": "@jupyter-widgets/base",
            "_model_module_version": "1.5.0",
            "_view_count": null,
            "_view_module_version": "1.2.0",
            "_model_module": "@jupyter-widgets/controls"
          }
        },
        "87f4900f2a904bb2b93f4ead4c98af3c": {
          "model_module": "@jupyter-widgets/base",
          "model_name": "LayoutModel",
          "state": {
            "_view_name": "LayoutView",
            "grid_template_rows": null,
            "right": null,
            "justify_content": null,
            "_view_module": "@jupyter-widgets/base",
            "overflow": null,
            "_model_module_version": "1.2.0",
            "_view_count": null,
            "flex_flow": null,
            "width": null,
            "min_width": null,
            "border": null,
            "align_items": null,
            "bottom": null,
            "_model_module": "@jupyter-widgets/base",
            "top": null,
            "grid_column": null,
            "overflow_y": null,
            "overflow_x": null,
            "grid_auto_flow": null,
            "grid_area": null,
            "grid_template_columns": null,
            "flex": null,
            "_model_name": "LayoutModel",
            "justify_items": null,
            "grid_row": null,
            "max_height": null,
            "align_content": null,
            "visibility": null,
            "align_self": null,
            "height": null,
            "min_height": null,
            "padding": null,
            "grid_auto_rows": null,
            "grid_gap": null,
            "max_width": null,
            "order": null,
            "_view_module_version": "1.2.0",
            "grid_template_areas": null,
            "object_position": null,
            "object_fit": null,
            "grid_auto_columns": null,
            "margin": null,
            "display": null,
            "left": null
          }
        }
      }
    }
  },
  "cells": [
    {
      "cell_type": "markdown",
      "metadata": {
        "id": "view-in-github",
        "colab_type": "text"
      },
      "source": [
        "<a href=\"https://colab.research.google.com/github/xenx96/OASIS_Ozone_Sensor_lstm/blob/main/OASIS_LSTM.ipynb\" target=\"_parent\"><img src=\"https://colab.research.google.com/assets/colab-badge.svg\" alt=\"Open In Colab\"/></a>"
      ]
    },
    {
      "cell_type": "code",
      "metadata": {
        "id": "8oR_R-N1C-LQ",
        "colab": {
          "base_uri": "https://localhost:8080/"
        },
        "outputId": "5ba283c6-89e7-422d-b3e6-138acfe0cc76"
      },
      "source": [
        "import os, sys\n",
        "from google.colab import drive\n",
        "drive.mount('/content/drive')\n",
        "\n",
        "my_path = '/content/notebooks'\n",
        "# Colab Notebooks 안에 my_env 폴더에 패키지 저장\n",
        "#os.symlink('/content/drive/My Drive/Colab Notebooks/my_env', my_path)\n",
        "sys.path.insert(0, my_path)\n",
        "\n",
        "#VERSION = \"20200220\"\n",
        "#!curl https://raw.githubusercontent.com/pytorch/xla/master/contrib/scripts/env-setup.py -o pytorch-xla-env-setup.py\n",
        "#!python pytorch-xla-env-setup.py \n"
      ],
      "execution_count": null,
      "outputs": [
        {
          "output_type": "stream",
          "text": [
            "Drive already mounted at /content/drive; to attempt to forcibly remount, call drive.mount(\"/content/drive\", force_remount=True).\n"
          ],
          "name": "stdout"
        }
      ]
    },
    {
      "cell_type": "code",
      "metadata": {
        "id": "4azVeHo5Csf9",
        "colab": {
          "base_uri": "https://localhost:8080/"
        },
        "outputId": "bd59eb05-c007-4f53-947e-7df98110d8aa"
      },
      "source": [
        "import pandas as pd\n",
        "import torch\n",
        "import torch.nn as nn\n",
        "import torch.nn.functional as F\n",
        "import torch.optim as optim\n",
        "import numpy as np\n",
        "Random_Seed = 100\n",
        "torch.manual_seed(Random_Seed)\n",
        "\n",
        "import torchvision\n",
        "print(torch.cuda.get_device_name(0))\n",
        "device = torch.device('cuda:0')\n",
        "\n",
        "\n",
        "import warnings\n",
        "warnings.filterwarnings('ignore')\n",
        "\n",
        "\n",
        "\n",
        "\n",
        "\n",
        "\n",
        "\n",
        "data_path='/content/drive/MyDrive/MK.Corp/ModelingData.csv'\n",
        "data = pd.read_csv(data_path)\n"
      ],
      "execution_count": null,
      "outputs": [
        {
          "output_type": "stream",
          "text": [
            "Tesla T4\n"
          ],
          "name": "stdout"
        }
      ]
    },
    {
      "cell_type": "code",
      "metadata": {
        "id": "o7zVMnAjopbC"
      },
      "source": [
        "#이건 데이터마다 다른 특성 및 데이터 핸들링 반영\r\n",
        "def personal_data_set(data):\r\n",
        "  data.x = data.x\r\n",
        "  data.y = data.y\r\n",
        "  data.z = data.z\r\n",
        "  data.ppm[data.ppm>=2] = 2\r\n",
        "  print(data.head())\r\n",
        "  print(data.shape)\r\n",
        "  return data"
      ],
      "execution_count": null,
      "outputs": []
    },
    {
      "cell_type": "code",
      "metadata": {
        "scrolled": true,
        "id": "Ujt9vKzDCsgC"
      },
      "source": [
        "from sklearn.preprocessing import MinMaxScaler, StandardScaler\n",
        "scaler = MinMaxScaler()\n",
        "\n",
        "#데이터의 주기를 주기\n",
        "def create_sequences(array, seq_length):\n",
        "    res = []\n",
        "    if seq_length == 1 :\n",
        "        for i in range(len(array)):\n",
        "            tmp=array[i:(i+seq_length)]\n",
        "            res.append(tmp)\n",
        "    else : \n",
        "        for i in range(len(array)-seq_length-1):\n",
        "            tmp = array[i:(i+seq_length)]\n",
        "            res.append(tmp)\n",
        "    return res\n",
        "\n",
        "#스케일링 작업 \n",
        "#GPU를활용한 텐서 작업.\n",
        "def data_set(data,cols,target,seq_length,GPU=True):\n",
        "  '''\n",
        "  cols =[] #X :: X Values\n",
        "  traget ='' #Y :: Traget Value\n",
        "  seq_length = 2 :: 시퀀스 길이\n",
        "  GPU = Using GPU :: GPU\n",
        "  '''\n",
        "  if GPU:\n",
        "    device = torch.device('cuda:0')\n",
        "  else :\n",
        "    device = torch.device('CPU')\n",
        "  \n",
        "  X = data[cols]\n",
        "  Y = data[target]\n",
        "  #Create Scaler \n",
        "  xScaler = scaler.fit(X)\n",
        "  yScaler = scaler.fit(Y.values.reshape(-1,1))\n",
        "  #Transform Scaler\n",
        "  X = xScaler.transform(X)\n",
        "  Y = yScaler.transform(Y.values.reshape(-1,1))\n",
        "  Y = Y.flatten()\n",
        "\n",
        "  #Print and check the Shape\n",
        "  print('X Data Set : ' , X.shape)\n",
        "  print('Y Data Set : ' , Y.shape)\n",
        "  \n",
        "  X = create_sequences(X,seq_length)\n",
        "  Y = create_sequences(Y,seq_length)\n",
        "\n",
        "  X = torch.tensor(X).float().to(device)\n",
        "  Y = torch.tensor(Y).float().to(device)\n",
        "\n",
        "  #After Tensor Use with GPU and PRinting\n",
        "  print('X Tensor Size : ',X.shape)\n",
        "  print('Y Tensor Size : ',Y.shape)\n",
        "\n",
        "  return X, Y\n",
        "\n"
      ],
      "execution_count": null,
      "outputs": []
    },
    {
      "cell_type": "code",
      "metadata": {
        "colab": {
          "base_uri": "https://localhost:8080/"
        },
        "id": "sFQ3ouedqz1v",
        "outputId": "1314dc3a-46b9-4cd0-f293-6be13e744fa4"
      },
      "source": [
        "data = personal_data_set(data)\r\n",
        "print(f'Colnames of Data : {list(data.columns)}')"
      ],
      "execution_count": null,
      "outputs": [
        {
          "output_type": "stream",
          "text": [
            "   Unnamed: 0    ppm    x   y  z  t  ...  right  left  up  s_name       svm  test_svm\n",
            "0           1  0.096  110  65  0  1  ...      0     0   0      s1  0.200000 -0.104000\n",
            "1           2  0.172  110  65  0  2  ...      0     0   0      s1  0.200000 -0.028000\n",
            "2           3  0.285  110  65  0  3  ...      0     0   0      s1  0.200000  0.085000\n",
            "3           4  0.432  110  65  0  4  ...      0     0   0      s1  0.269216  0.162784\n",
            "4           5  0.609  110  65  0  5  ...      0     0   0      s1  0.426623  0.182377\n",
            "\n",
            "[5 rows x 15 columns]\n",
            "(2848, 15)\n",
            "Colnames of Data : ['Unnamed: 0', 'ppm', 'x', 'y', 'z', 't', 's16', 'forward', 'back', 'right', 'left', 'up', 's_name', 'svm', 'test_svm']\n"
          ],
          "name": "stdout"
        }
      ]
    },
    {
      "cell_type": "code",
      "metadata": {
        "id": "Alwc0M0zqued"
      },
      "source": [
        "cols =['x', 'y', 'z', 't', 's16', 'forward', 'back', 'right', 'left', 'up']\r\n",
        "target = 'ppm'\r\n",
        "seq_length = 2\r\n",
        "X_train, Y_train = data_set(data,cols,target,seq_length)"
      ],
      "execution_count": null,
      "outputs": []
    },
    {
      "cell_type": "code",
      "metadata": {
        "id": "IikpSzCZCsgG"
      },
      "source": [
        "class OASIS_LSTM(nn.Module):\n",
        "    \n",
        "    def __init__(self, n_features, n_hidden, seq_len, n_layers=2):\n",
        "        super(OASIS_LSTM,self).__init__()\n",
        "        self.n_hidden = n_hidden\n",
        "        self.seq_len = seq_len\n",
        "        self.n_layers = n_layers\n",
        "        \n",
        "        self.lstm = nn.LSTM(\n",
        "        input_size = n_features,\n",
        "        hidden_size = n_hidden,\n",
        "        num_layers = n_layers,\n",
        "        #dropout = 1\n",
        "        ).to(device)\n",
        "        \n",
        "        self.linear = nn.Linear(in_features = n_hidden, out_features = 1).to(device)\n",
        "        \n",
        "    def reset_hidden_state(self):\n",
        "        \n",
        "        self.hidden = (\n",
        "            torch.zeros(self.n_layers,self.seq_len,self.n_hidden).to(device),\n",
        "            torch.zeros(self.n_layers,  self.seq_len,self.n_hidden).to(device))\n",
        "        \n",
        "    def forward(self,sequences):\n",
        "        \n",
        "        lstm_out, self.hidden = self.lstm(sequences.view(len(sequences),self.seq_len, -1), self.hidden)\n",
        "        last_time_step = lstm_out.view(self.seq_len,len(sequences),self.n_hidden)[-1]\n",
        "        y_pred = self.linear(last_time_step).to(device)\n",
        "        \n",
        "        return y_pred\n",
        "        "
      ],
      "execution_count": null,
      "outputs": []
    },
    {
      "cell_type": "code",
      "metadata": {
        "id": "TVt7G7dmCsgH"
      },
      "source": [
        "from tqdm.auto import tqdm\n",
        "def train_model(model, train_data, train_labels,test_data = None, test_labels = None, num_epochs=250, lr=1e-3):\n",
        "    loss_fn = torch.nn.MSELoss().to(device)\n",
        "    \n",
        "    optimiser = torch.optim.Adam(model.parameters(), lr=lr, weight_decay = 1e-4)\n",
        "    num_epochs = num_epochs\n",
        "    \n",
        "    train_hist = np.zeros(num_epochs)\n",
        "    test_hist = np.zeros(num_epochs)\n",
        "    \n",
        "    for t in tqdm(range(num_epochs), desc=\"OASIS LSTM is Learning\", mininterval=0.01):\n",
        "        model.reset_hidden_state()\n",
        "        y_pred = model(X_train)\n",
        "        loss = loss_fn(y_pred.float(),Y_train)\n",
        "        \n",
        "        if test_data is not None :\n",
        "            with torch.no_grad():\n",
        "                y_test_pred = model(X_test)\n",
        "                test_loss = loss_fn(y_test_pred.float(), y_test)\n",
        "            test_hist[t] = test_loss.item()\n",
        "            \n",
        "            if t % 10 == 0 :\n",
        "                print(f'Epoch {t} train loss: {round(loss.item(),4)} test loss : {round(test_loss.item(),4)}' )\n",
        "                \n",
        "        elif t% 100 == 0 :\n",
        "          print(f'Epoch {t} train loss : {loss.item()}')\n",
        "            \n",
        "        train_hist[t] = loss.item()\n",
        "        optimiser.zero_grad()\n",
        "        loss.backward()\n",
        "        optimiser.step()\n",
        "            \n",
        "    return model.eval(), train_hist, test_hist\n",
        "            \n",
        "        "
      ],
      "execution_count": null,
      "outputs": []
    },
    {
      "cell_type": "code",
      "metadata": {
        "id": "EiYzOjEvCsgH"
      },
      "source": [
        "# Hyper - Parameter Option Setting\n",
        "n_features = X_train.shape[-1]\n",
        "n_hidden = 64\n",
        "n_layers = 2\n",
        "lr = 1e-4\n",
        "num_epochs = 1000"
      ],
      "execution_count": null,
      "outputs": []
    },
    {
      "cell_type": "code",
      "metadata": {
        "id": "pQDet4PDCsgH",
        "colab": {
          "base_uri": "https://localhost:8080/",
          "height": 247,
          "referenced_widgets": [
            "f98d26c296c8429281897150cf7c1b67",
            "4926dd7cd4b745bc870ce418a686f3ba",
            "b247e934827d4d1589cf501064e14ff4",
            "c794018b50cf49a0b1d6caadc7516d9b",
            "6e525c0d70704e89b3814b3bdba4816a",
            "c5a4de9d0530432aacaf19704c58f1a3",
            "30765fa396a641ab80ab7594f0c6d8ce",
            "87f4900f2a904bb2b93f4ead4c98af3c"
          ]
        },
        "outputId": "250952be-ec3a-4755-dc63-25021d87b8fb"
      },
      "source": [
        "\r\n",
        "model = OASIS_LSTM(n_features=n_features, n_hidden = n_hidden, seq_len = seq_length, n_layers= n_layers)\r\n",
        "model, train_hist, test_hist = train_model(model, X_train,Y_train,num_epochs=num_epochs,lr = lr)"
      ],
      "execution_count": null,
      "outputs": [
        {
          "output_type": "display_data",
          "data": {
            "application/vnd.jupyter.widget-view+json": {
              "model_id": "f98d26c296c8429281897150cf7c1b67",
              "version_minor": 0,
              "version_major": 2
            },
            "text/plain": [
              "HBox(children=(FloatProgress(value=0.0, description='OASIS LSTM is Learning', max=1000.0, style=ProgressStyle(…"
            ]
          },
          "metadata": {
            "tags": []
          }
        },
        {
          "output_type": "stream",
          "text": [
            "Epoch 0 train loss : 0.7764981389045715\n",
            "Epoch 100 train loss : 0.161820650100708\n",
            "Epoch 200 train loss : 0.1586267650127411\n",
            "Epoch 300 train loss : 0.15859173238277435\n",
            "Epoch 400 train loss : 0.15849633514881134\n",
            "Epoch 500 train loss : 0.1583954095840454\n",
            "Epoch 600 train loss : 0.15837064385414124\n",
            "Epoch 700 train loss : 0.15834788978099823\n",
            "Epoch 800 train loss : 0.15833055973052979\n",
            "Epoch 900 train loss : 0.15832465887069702\n",
            "\n"
          ],
          "name": "stdout"
        }
      ]
    },
    {
      "cell_type": "code",
      "metadata": {
        "id": "WN1BNb3ZCsgH"
      },
      "source": [
        "torch.save(model,'LSTM_OASIS.pt')\r\n",
        "torch.save(model.state_dict(),'model_state_dict.pt')"
      ],
      "execution_count": null,
      "outputs": []
    },
    {
      "cell_type": "code",
      "metadata": {
        "id": "aJNvbw5hzN-Z"
      },
      "source": [
        "with torch.no_grad():\r\n",
        "  test_seq = X_train\r\n",
        "  preds =[]\r\n",
        "  for i in range(X_train.shape[0]):\r\n",
        "    y_test_pred = model(test_seq[i:i+1])\r\n",
        "    pred = torch.flatten(y_test_pred).item()\r\n",
        "    preds.append(pred)"
      ],
      "execution_count": null,
      "outputs": []
    },
    {
      "cell_type": "code",
      "metadata": {
        "id": "Til5PwPmCsgH"
      },
      "source": [
        "# Hyper - Parameter Option Setting\n",
        "if(i ==4444):\n",
        "  lr = 1e-4\n",
        "  num_epochs = 1000\n",
        "  n_features = X_train.shape[-1]\n",
        "  for n_hidden in tqdm(range(64,179)):\n",
        "    for n_layers in range(2,11):\n",
        "      \n",
        "      print(f'hidden : {n_hidden}, n_layer :{n_layers}')\n",
        "      model = OASIS_LSTM(n_features=n_features, n_hidden = n_hidden, seq_len = seq_length, n_layers= n_layers)\n",
        "      model, train_hist, test_hist = train_model(model, X_train,Y_train,num_epochs=num_epochs,lr = lr)\n",
        "      torch.save(model,'LSTM_OASIS.pt')\n",
        "      torch.save(model.state_dict(),'model_state_dict.pt')\n",
        "    \n",
        "      \n",
        "      with torch.no_grad():\n",
        "        test_seq = X_train\n",
        "        preds =[]\n",
        "        for i in range(X_train.shape[0]):\n",
        "            y_test_pred = model(test_seq[i:i+1])\n",
        "            pred = torch.flatten(y_test_pred).item()\n",
        "            preds.append(pred)\n",
        "      pred_diff = yScaler.inverse_transform(np.array(Y_train.cpu()))[:,[-1]] -yScaler.inverse_transform(np.array(preds).reshape(-1,1))\n",
        "      if(max(abs(pred_diff))<=0.3):\n",
        "        print(max(pred_diff))\n",
        "        break;\n",
        "      print(max(pred_diff))"
      ],
      "execution_count": null,
      "outputs": []
    },
    {
      "cell_type": "code",
      "metadata": {
        "id": "9RZjIr_cCsgI",
        "colab": {
          "base_uri": "https://localhost:8080/"
        },
        "outputId": "f2af43bc-b8d8-4077-d2a6-e397490ffe29"
      },
      "source": [
        "max(preds)"
      ],
      "execution_count": null,
      "outputs": [
        {
          "output_type": "execute_result",
          "data": {
            "text/plain": [
              "0.8825141191482544"
            ]
          },
          "metadata": {
            "tags": []
          },
          "execution_count": 92
        }
      ]
    },
    {
      "cell_type": "code",
      "metadata": {
        "id": "kzIceFMEvBM8"
      },
      "source": [
        ""
      ],
      "execution_count": null,
      "outputs": []
    },
    {
      "cell_type": "code",
      "metadata": {
        "id": "L8WnKyeGCsgI"
      },
      "source": [
        "pred_value = yScaler.inverse_transform(np.array(preds).reshape(-1,1))\n"
      ],
      "execution_count": null,
      "outputs": []
    },
    {
      "cell_type": "code",
      "metadata": {
        "id": "Yb-68sMVtWPe",
        "colab": {
          "base_uri": "https://localhost:8080/"
        },
        "outputId": "b8a139a4-9c04-4334-d82d-5f1363ecd3b1"
      },
      "source": [
        "pred_value"
      ],
      "execution_count": null,
      "outputs": [
        {
          "output_type": "execute_result",
          "data": {
            "text/plain": [
              "array([[1.1638733 ],\n",
              "       [1.18034272],\n",
              "       [1.18212962],\n",
              "       ...,\n",
              "       [1.23176458],\n",
              "       [1.22773724],\n",
              "       [1.22438744]])"
            ]
          },
          "metadata": {
            "tags": []
          },
          "execution_count": 94
        }
      ]
    },
    {
      "cell_type": "code",
      "metadata": {
        "id": "WivSWLNjCsgI"
      },
      "source": [
        "Result=yScaler.inverse_transform(np.array(Y_train.cpu()))[:,[-1]]-pred_value\r\n",
        "Result=pd.DataFrame(Result)"
      ],
      "execution_count": null,
      "outputs": []
    },
    {
      "cell_type": "code",
      "metadata": {
        "id": "IppAF2HcuJ2_",
        "colab": {
          "base_uri": "https://localhost:8080/",
          "height": 419
        },
        "outputId": "1c3f3048-f5b7-4d80-83ea-abee47289e9f"
      },
      "source": [
        "pd.concat([data,pd.DataFrame(pred_value)],axis=1)\r\n"
      ],
      "execution_count": null,
      "outputs": [
        {
          "output_type": "execute_result",
          "data": {
            "text/html": [
              "<div>\n",
              "<style scoped>\n",
              "    .dataframe tbody tr th:only-of-type {\n",
              "        vertical-align: middle;\n",
              "    }\n",
              "\n",
              "    .dataframe tbody tr th {\n",
              "        vertical-align: top;\n",
              "    }\n",
              "\n",
              "    .dataframe thead th {\n",
              "        text-align: right;\n",
              "    }\n",
              "</style>\n",
              "<table border=\"1\" class=\"dataframe\">\n",
              "  <thead>\n",
              "    <tr style=\"text-align: right;\">\n",
              "      <th></th>\n",
              "      <th>ppm</th>\n",
              "      <th>x</th>\n",
              "      <th>y</th>\n",
              "      <th>z</th>\n",
              "      <th>t</th>\n",
              "      <th>s16</th>\n",
              "      <th>forward</th>\n",
              "      <th>back</th>\n",
              "      <th>right</th>\n",
              "      <th>left</th>\n",
              "      <th>up</th>\n",
              "      <th>svm</th>\n",
              "      <th>test_svm</th>\n",
              "      <th>0</th>\n",
              "    </tr>\n",
              "  </thead>\n",
              "  <tbody>\n",
              "    <tr>\n",
              "      <th>0</th>\n",
              "      <td>0.096</td>\n",
              "      <td>110</td>\n",
              "      <td>65</td>\n",
              "      <td>0</td>\n",
              "      <td>1</td>\n",
              "      <td>0.096</td>\n",
              "      <td>1</td>\n",
              "      <td>0</td>\n",
              "      <td>0</td>\n",
              "      <td>0</td>\n",
              "      <td>0</td>\n",
              "      <td>0.200000</td>\n",
              "      <td>-0.104000</td>\n",
              "      <td>1.163873</td>\n",
              "    </tr>\n",
              "    <tr>\n",
              "      <th>1</th>\n",
              "      <td>0.172</td>\n",
              "      <td>110</td>\n",
              "      <td>65</td>\n",
              "      <td>0</td>\n",
              "      <td>2</td>\n",
              "      <td>0.172</td>\n",
              "      <td>1</td>\n",
              "      <td>0</td>\n",
              "      <td>0</td>\n",
              "      <td>0</td>\n",
              "      <td>0</td>\n",
              "      <td>0.200000</td>\n",
              "      <td>-0.028000</td>\n",
              "      <td>1.180343</td>\n",
              "    </tr>\n",
              "    <tr>\n",
              "      <th>2</th>\n",
              "      <td>0.285</td>\n",
              "      <td>110</td>\n",
              "      <td>65</td>\n",
              "      <td>0</td>\n",
              "      <td>3</td>\n",
              "      <td>0.285</td>\n",
              "      <td>1</td>\n",
              "      <td>0</td>\n",
              "      <td>0</td>\n",
              "      <td>0</td>\n",
              "      <td>0</td>\n",
              "      <td>0.200000</td>\n",
              "      <td>0.085000</td>\n",
              "      <td>1.182130</td>\n",
              "    </tr>\n",
              "    <tr>\n",
              "      <th>3</th>\n",
              "      <td>0.432</td>\n",
              "      <td>110</td>\n",
              "      <td>65</td>\n",
              "      <td>0</td>\n",
              "      <td>4</td>\n",
              "      <td>0.432</td>\n",
              "      <td>1</td>\n",
              "      <td>0</td>\n",
              "      <td>0</td>\n",
              "      <td>0</td>\n",
              "      <td>0</td>\n",
              "      <td>0.269216</td>\n",
              "      <td>0.162784</td>\n",
              "      <td>1.170160</td>\n",
              "    </tr>\n",
              "    <tr>\n",
              "      <th>4</th>\n",
              "      <td>0.609</td>\n",
              "      <td>110</td>\n",
              "      <td>65</td>\n",
              "      <td>0</td>\n",
              "      <td>5</td>\n",
              "      <td>0.609</td>\n",
              "      <td>1</td>\n",
              "      <td>0</td>\n",
              "      <td>0</td>\n",
              "      <td>0</td>\n",
              "      <td>0</td>\n",
              "      <td>0.426623</td>\n",
              "      <td>0.182377</td>\n",
              "      <td>1.143529</td>\n",
              "    </tr>\n",
              "    <tr>\n",
              "      <th>...</th>\n",
              "      <td>...</td>\n",
              "      <td>...</td>\n",
              "      <td>...</td>\n",
              "      <td>...</td>\n",
              "      <td>...</td>\n",
              "      <td>...</td>\n",
              "      <td>...</td>\n",
              "      <td>...</td>\n",
              "      <td>...</td>\n",
              "      <td>...</td>\n",
              "      <td>...</td>\n",
              "      <td>...</td>\n",
              "      <td>...</td>\n",
              "      <td>...</td>\n",
              "    </tr>\n",
              "    <tr>\n",
              "      <th>2843</th>\n",
              "      <td>2.000</td>\n",
              "      <td>280</td>\n",
              "      <td>130</td>\n",
              "      <td>0</td>\n",
              "      <td>174</td>\n",
              "      <td>2.923</td>\n",
              "      <td>1</td>\n",
              "      <td>0</td>\n",
              "      <td>1</td>\n",
              "      <td>0</td>\n",
              "      <td>0</td>\n",
              "      <td>2.199428</td>\n",
              "      <td>0.135572</td>\n",
              "      <td>NaN</td>\n",
              "    </tr>\n",
              "    <tr>\n",
              "      <th>2844</th>\n",
              "      <td>2.000</td>\n",
              "      <td>280</td>\n",
              "      <td>130</td>\n",
              "      <td>0</td>\n",
              "      <td>175</td>\n",
              "      <td>2.916</td>\n",
              "      <td>1</td>\n",
              "      <td>0</td>\n",
              "      <td>1</td>\n",
              "      <td>0</td>\n",
              "      <td>0</td>\n",
              "      <td>2.184870</td>\n",
              "      <td>0.145130</td>\n",
              "      <td>NaN</td>\n",
              "    </tr>\n",
              "    <tr>\n",
              "      <th>2845</th>\n",
              "      <td>2.000</td>\n",
              "      <td>280</td>\n",
              "      <td>130</td>\n",
              "      <td>0</td>\n",
              "      <td>176</td>\n",
              "      <td>2.909</td>\n",
              "      <td>1</td>\n",
              "      <td>0</td>\n",
              "      <td>1</td>\n",
              "      <td>0</td>\n",
              "      <td>0</td>\n",
              "      <td>2.170538</td>\n",
              "      <td>0.155462</td>\n",
              "      <td>NaN</td>\n",
              "    </tr>\n",
              "    <tr>\n",
              "      <th>2846</th>\n",
              "      <td>2.000</td>\n",
              "      <td>280</td>\n",
              "      <td>130</td>\n",
              "      <td>0</td>\n",
              "      <td>177</td>\n",
              "      <td>2.901</td>\n",
              "      <td>1</td>\n",
              "      <td>0</td>\n",
              "      <td>1</td>\n",
              "      <td>0</td>\n",
              "      <td>0</td>\n",
              "      <td>2.156269</td>\n",
              "      <td>0.168731</td>\n",
              "      <td>NaN</td>\n",
              "    </tr>\n",
              "    <tr>\n",
              "      <th>2847</th>\n",
              "      <td>2.000</td>\n",
              "      <td>280</td>\n",
              "      <td>130</td>\n",
              "      <td>0</td>\n",
              "      <td>178</td>\n",
              "      <td>2.897</td>\n",
              "      <td>1</td>\n",
              "      <td>0</td>\n",
              "      <td>1</td>\n",
              "      <td>0</td>\n",
              "      <td>0</td>\n",
              "      <td>2.142844</td>\n",
              "      <td>0.183156</td>\n",
              "      <td>NaN</td>\n",
              "    </tr>\n",
              "  </tbody>\n",
              "</table>\n",
              "<p>2848 rows × 14 columns</p>\n",
              "</div>"
            ],
            "text/plain": [
              "        ppm    x    y  z    t  ...  left  up       svm  test_svm         0\n",
              "0     0.096  110   65  0    1  ...     0   0  0.200000 -0.104000  1.163873\n",
              "1     0.172  110   65  0    2  ...     0   0  0.200000 -0.028000  1.180343\n",
              "2     0.285  110   65  0    3  ...     0   0  0.200000  0.085000  1.182130\n",
              "3     0.432  110   65  0    4  ...     0   0  0.269216  0.162784  1.170160\n",
              "4     0.609  110   65  0    5  ...     0   0  0.426623  0.182377  1.143529\n",
              "...     ...  ...  ... ..  ...  ...   ...  ..       ...       ...       ...\n",
              "2843  2.000  280  130  0  174  ...     0   0  2.199428  0.135572       NaN\n",
              "2844  2.000  280  130  0  175  ...     0   0  2.184870  0.145130       NaN\n",
              "2845  2.000  280  130  0  176  ...     0   0  2.170538  0.155462       NaN\n",
              "2846  2.000  280  130  0  177  ...     0   0  2.156269  0.168731       NaN\n",
              "2847  2.000  280  130  0  178  ...     0   0  2.142844  0.183156       NaN\n",
              "\n",
              "[2848 rows x 14 columns]"
            ]
          },
          "metadata": {
            "tags": []
          },
          "execution_count": 96
        }
      ]
    },
    {
      "cell_type": "code",
      "metadata": {
        "id": "kTsDgvzgCsgI"
      },
      "source": [
        ""
      ],
      "execution_count": null,
      "outputs": []
    },
    {
      "cell_type": "code",
      "metadata": {
        "id": "dhNiYutDCsgI"
      },
      "source": [
        "Result.to_csv('Result_LSTM.csv')"
      ],
      "execution_count": null,
      "outputs": []
    }
  ]
}